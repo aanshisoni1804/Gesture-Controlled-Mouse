{
 "cells": [
  {
   "cell_type": "code",
   "execution_count": null,
   "id": "6801636c-96a3-4adc-844d-61f1c00dcc58",
   "metadata": {},
   "outputs": [],
   "source": []
  }
 ],
 "metadata": {
  "kernelspec": {
   "display_name": "",
   "name": ""
  },
  "language_info": {
   "name": ""
  }
 },
 "nbformat": 4,
 "nbformat_minor": 5
}
