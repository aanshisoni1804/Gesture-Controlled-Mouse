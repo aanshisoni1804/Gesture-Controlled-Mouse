{
 "cells": [
  {
   "cell_type": "code",
   "execution_count": null,
   "id": "6801636c-96a3-4adc-844d-61f1c00dcc58",
   "metadata": {},
   "outputs": [],
   "source": [
    "import cv2\n",
    "import mediapipe as mp\n",
    "import pyautogui\n",
    "import math\n",
    "\n",
    "cap = cv2.VideoCapture(0)\n",
    "hand_detector = mp.solutions.hands.Hands(max_num_hands=1)\n",
    "drawing_utils = mp.solutions.drawing_utils\n",
    "screen_width, screen_height = pyautogui.size()\n",
    "\n",
    "index_x = index_y = 0\n",
    "thumb_x = thumb_y = 0\n",
    "\n",
    "while True:\n",
    "    _, frame = cap.read()\n",
    "    frame = cv2.flip(frame, 1)\n",
    "    height, width, _ = frame.shape\n",
    "\n",
    "    rgb_frame = cv2.cvtColor(frame, cv2.COLOR_BGR2RGB)\n",
    "    output = hand_detector.process(rgb_frame)\n",
    "    hands = output.multi_hand_landmarks\n",
    "\n",
    "    if hands:\n",
    "        for hand in hands:\n",
    "            drawing_utils.draw_landmarks(frame, hand)\n",
    "            landmarks = hand.landmark\n",
    "\n",
    "            for id, landmark in enumerate(landmarks):\n",
    "                x = int(landmark.x * width)\n",
    "                y = int(landmark.y * height)\n",
    "\n",
    "                if id == 8:  # Index finger\n",
    "                    index_x = screen_width / width * x\n",
    "                    index_y = screen_height / height * y\n",
    "                    cv2.circle(frame, (x, y), 10, (255, 0, 255), -1)\n",
    "                    pyautogui.moveTo(index_x, index_y)\n",
    "\n",
    "                if id == 4:  # Thumb\n",
    "                    thumb_x = screen_width / width * x\n",
    "                    thumb_y = screen_height / height * y\n",
    "                    cv2.circle(frame, (x, y), 10, (0, 255, 0), -1)\n",
    "\n",
    "            # Check distance between index and thumb\n",
    "            dist = math.hypot(thumb_x - index_x, thumb_y - index_y)\n",
    "            if dist < 40:\n",
    "                pyautogui.click()\n",
    "                pyautogui.sleep(1)  # prevent multiple clicks\n",
    "\n",
    "    cv2.imshow(\"Virtual Mouse\", frame)\n",
    "\n",
    "    if cv2.waitKey(1) == 27:\n",
    "        break\n",
    "\n",
    "cap.release()\n",
    "cv2.destroyAllWindows()\n"
   ]
  },
  {
   "cell_type": "code",
   "execution_count": null,
   "id": "e25dfd8c-617e-445f-9679-f137f4a4a666",
   "metadata": {},
   "outputs": [],
   "source": []
  }
 ],
 "metadata": {
  "kernelspec": {
   "display_name": "Python 3 (ipykernel)",
   "language": "python",
   "name": "python3"
  },
  "language_info": {
   "codemirror_mode": {
    "name": "ipython",
    "version": 3
   },
   "file_extension": ".py",
   "mimetype": "text/x-python",
   "name": "python",
   "nbconvert_exporter": "python",
   "pygments_lexer": "ipython3",
   "version": "3.12.0"
  }
 },
 "nbformat": 4,
 "nbformat_minor": 5
}
